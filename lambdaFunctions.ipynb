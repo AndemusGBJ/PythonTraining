{
 "cells": [
  {
   "attachments": {},
   "cell_type": "markdown",
   "metadata": {},
   "source": [
    "1. Filter even numbers: Write a lambda function that takes a list of numbers as input and returns a new list that only contains the even numbers. For example, given the list [1, 2, 3, 4, 5, 6], the lambda function should return [2, 4, 6]."
   ]
  },
  {
   "cell_type": "code",
   "execution_count": 1,
   "metadata": {},
   "outputs": [
    {
     "name": "stdout",
     "output_type": "stream",
     "text": [
      "[2, 4, 6, 8, 10]\n"
     ]
    }
   ],
   "source": [
    "List = [1,2,3,4,5,6,7,8,9,10]\n",
    "function = filter(lambda x: x%2==0, List)\n",
    "\n",
    "print(list(function))"
   ]
  },
  {
   "attachments": {},
   "cell_type": "markdown",
   "metadata": {},
   "source": [
    "2. Sort a list of dictionaries: Write a lambda function that sorts a list of dictionaries by a specified key. For example, given the list of dictionaries [{ 'name': 'John', 'age': 25 }, { 'name': 'Alice', 'age': 30 }, { 'name': 'Bob', 'age': 20 }], the lambda function should sort the list by age and return [{ 'name': 'Bob', 'age': 20 }, { 'name': 'John', 'age': 25 }, { 'name': 'Alice', 'age': 30 }]."
   ]
  },
  {
   "cell_type": "code",
   "execution_count": 6,
   "metadata": {},
   "outputs": [
    {
     "name": "stdout",
     "output_type": "stream",
     "text": [
      "[{'name': 'Bob', 'age': 20}, {'name': 'John', 'age': 25}, {'name': 'Alice', 'age': 30}]\n"
     ]
    }
   ],
   "source": [
    "List = [{ 'name': 'John', 'age': 25 }, { 'name': 'Alice', 'age': 30 }, { 'name': 'Bob', 'age': 20 }]\n",
    "function = List.sort(key=lambda x: x['age'])\n",
    "\n",
    "print(List)"
   ]
  },
  {
   "cell_type": "code",
   "execution_count": 7,
   "metadata": {},
   "outputs": [
    {
     "name": "stdout",
     "output_type": "stream",
     "text": [
      "Original list of dictionaries :\n",
      "[{'name': 'John', 'age': 25}, {'name': 'Alice', 'age': 30}, {'name': 'Bob', 'age': 20}]\n",
      "\n",
      "Sorting the List of dictionaries :\n",
      "[{'name': 'Bob', 'age': 20}, {'name': 'John', 'age': 25}, {'name': 'Alice', 'age': 30}]\n"
     ]
    }
   ],
   "source": [
    "names = [{ 'name': 'John', 'age': 25 }, { 'name': 'Alice', 'age': 30 }, { 'name': 'Bob', 'age': 20 }]\n",
    "print(\"Original list of dictionaries :\")\n",
    "print(names)\n",
    "sorted_list = sorted(names, key = lambda x: x['age'])\n",
    "print(\"\\nSorting the List of dictionaries :\")\n",
    "print(sorted_list)"
   ]
  },
  {
   "attachments": {},
   "cell_type": "markdown",
   "metadata": {},
   "source": [
    "3. Merge two dictionaries with a Lambda function: Write a lambda function that takes two dictionaries as input and merges them into a single dictionary. If the two dictionaries have any keys in common, the value in the second dictionary should overwrite the value in the first dictionary. For example, given the two dictionaries { 'a': 1, 'b': 2 } and { 'b': 3, 'c': 4 }, the lambda function should return { 'a': 1, 'b': 3, 'c': 4 }."
   ]
  },
  {
   "cell_type": "code",
   "execution_count": 12,
   "metadata": {},
   "outputs": [
    {
     "name": "stdout",
     "output_type": "stream",
     "text": [
      "{'a': 1, 'b': 3, 'c': 4}\n",
      "{'a': 1, 'b': 3, 'c': 4}\n"
     ]
    }
   ],
   "source": [
    "dict1 = {'a': 1, 'b': 2}\n",
    "dict2 = {'b': 3, 'c': 4}\n",
    "\n",
    "merged = lambda x, y: x.update(y) or x\n",
    "merged2 = lambda dict1,dict2:{**dict1, **dict2}\n",
    "print(merged(dict1, dict2))\n",
    "print(merged2(dict1, dict2))"
   ]
  },
  {
   "attachments": {},
   "cell_type": "markdown",
   "metadata": {},
   "source": [
    "4. Group a list of tuples by the second element: Write a lambda function that takes a list of tuples as input and groups the tuples by the second element. For example, given the list of tuples [(1, 'a'), (2, 'b'), (3, 'a'), (4, 'b')], the lambda function should return { 'a': [(1, 'a'), (3, 'a')], 'b': [(2, 'b'), (4, 'b')]}."
   ]
  },
  {
   "cell_type": "code",
   "execution_count": 21,
   "metadata": {},
   "outputs": [
    {
     "name": "stdout",
     "output_type": "stream",
     "text": [
      "{'a': [(1, 'a'), (3, 'a')], 'b': [(2, 'b'), (4, 'b')]}\n"
     ]
    }
   ],
   "source": [
    "List = [(1, 'a'), (2, 'b'), (3, 'a'), (4, 'b')]\n",
    "grouped = lambda x: {k: [t for t in x if t[1] == k] for k in set(t[1] for t in x)}\n",
    "\n",
    "print(grouped(List))"
   ]
  },
  {
   "attachments": {},
   "cell_type": "markdown",
   "metadata": {},
   "source": [
    "5. Calculate the median: Write a lambda function that takes a list of numbers as input and returns the median value. If the list has an even number of elements, the median should be the average of the middle two elements. For example, given the list [1, 2, 3, 4, 5, 6], the lambda function should return 3.5."
   ]
  },
  {
   "cell_type": "code",
   "execution_count": 25,
   "metadata": {},
   "outputs": [
    {
     "name": "stdout",
     "output_type": "stream",
     "text": [
      "3.5\n",
      "3.5\n",
      "3.5\n"
     ]
    }
   ],
   "source": [
    "List = [1,2,3,4,5,6]\n",
    "median = lambda x: (sorted(x)[len(x)//2] + sorted(x)[~len(x)//2])/2\n",
    "\n",
    "print(median(List))\n",
    "\n",
    "#we can also use the following code\n",
    "median = lambda lst: sorted(lst)[len(lst) // 2] if len(lst) % 2 != 0 else sum(sorted(lst)[len(lst) // 2 - 1:len(lst) // 2 + 1]) / 2\n",
    "\n",
    "print(median(List))\n",
    "\n",
    "# we can also use the following code\n",
    "\n",
    "import statistics\n",
    "median = lambda lst: statistics.median(lst)\n",
    "print (median(List))\n"
   ]
  }
 ],
 "metadata": {
  "kernelspec": {
   "display_name": "Python 3",
   "language": "python",
   "name": "python3"
  },
  "language_info": {
   "codemirror_mode": {
    "name": "ipython",
    "version": 3
   },
   "file_extension": ".py",
   "mimetype": "text/x-python",
   "name": "python",
   "nbconvert_exporter": "python",
   "pygments_lexer": "ipython3",
   "version": "3.11.2"
  },
  "orig_nbformat": 4
 },
 "nbformat": 4,
 "nbformat_minor": 2
}
