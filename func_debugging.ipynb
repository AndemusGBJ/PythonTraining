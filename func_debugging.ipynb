{
 "cells": [
  {
   "attachments": {},
   "cell_type": "markdown",
   "metadata": {},
   "source": [
    "1. This program is supposed to find the largest number in a list of numbers. However, the bug in this program is that the initial value of the \"largest\" variable is set to 0. This means that if the list of numbers only contains numbers that are less than 0, the function will return 0 instead of the largest negative number."
   ]
  },
  {
   "cell_type": "code",
   "execution_count": 10,
   "metadata": {},
   "outputs": [
    {
     "name": "stdout",
     "output_type": "stream",
     "text": [
      "0\n"
     ]
    }
   ],
   "source": [
    "def find_largest(numbers):\n",
    "    largest = 0\n",
    "    for number in numbers:\n",
    "        if number > largest:   \n",
    "            largest = number\n",
    "    return largest\n",
    "    \n",
    "\n",
    "numbers = [-1,-2,-3,-4]\n",
    "result = find_largest(numbers)\n",
    "print(result)"
   ]
  },
  {
   "cell_type": "code",
   "execution_count": 11,
   "metadata": {},
   "outputs": [
    {
     "name": "stdout",
     "output_type": "stream",
     "text": [
      "-1\n"
     ]
    }
   ],
   "source": [
    "# your code here\n",
    "def find_largest(numbers):\n",
    "    largest = max(numbers)\n",
    "    return largest\n",
    "\n",
    "numbers = [-1,-2,-3,-4]\n",
    "result = find_largest(numbers)\n",
    "print(result)"
   ]
  },
  {
   "attachments": {},
   "cell_type": "markdown",
   "metadata": {},
   "source": [
    "2. This program is supposed to find the duplicate elements in an array, however there is a bug in this program. The bug is that this program will return duplicate duplicate elements multiple times in the result. For example, if the input array contains 3 duplicate elements of number 3, it will return [3, 3, 3] instead of [3]."
   ]
  },
  {
   "cell_type": "code",
   "execution_count": null,
   "metadata": {},
   "outputs": [],
   "source": [
    "def find_duplicates(arr):\n",
    "    result = []\n",
    "    for i in range(len(arr)):\n",
    "        for j in range(i+1, len(arr)):\n",
    "            if arr[i] == arr[j]:\n",
    "                result.append(arr[i])\n",
    "    return result\n",
    "\n",
    "input_arr = [1, 2, 3, 4, 2, 3, 5, 6, 7, 3]\n",
    "output = find_duplicates(input_arr)\n",
    "print(output)"
   ]
  },
  {
   "cell_type": "code",
   "execution_count": null,
   "metadata": {},
   "outputs": [],
   "source": [
    "# your code here"
   ]
  },
  {
   "attachments": {},
   "cell_type": "markdown",
   "metadata": {},
   "source": [
    "3. This program is supposed to divide two numbers, however there is a bug in this program. The bug is that this program will raise a ZeroDivisionError when the denominator is zero."
   ]
  },
  {
   "cell_type": "code",
   "execution_count": null,
   "metadata": {},
   "outputs": [],
   "source": [
    "def divide(x, y):\n",
    "    return x/y\n",
    "\n",
    "result = divide(5, 0)\n",
    "print(result)"
   ]
  },
  {
   "cell_type": "code",
   "execution_count": null,
   "metadata": {},
   "outputs": [],
   "source": [
    "# your code here"
   ]
  },
  {
   "attachments": {},
   "cell_type": "markdown",
   "metadata": {},
   "source": [
    "4. This program is supposed to iterate through a list and print each element, however there is a bug in this program. The bug is that after the first iteration, the `data.pop(i)` command will remove the item at index `i` from the list, which will cause the list to change its size, but the variable `i` will still increment, this will cause the loop to skip an element in the list and print the wrong results."
   ]
  },
  {
   "cell_type": "code",
   "execution_count": null,
   "metadata": {},
   "outputs": [],
   "source": [
    "data = [\"item1\", \"item2\", \"item3\"]\n",
    "for i in range(len(data)):\n",
    "    print(data[i])\n",
    "    data.pop(i)"
   ]
  },
  {
   "cell_type": "code",
   "execution_count": null,
   "metadata": {},
   "outputs": [],
   "source": [
    "# your code here"
   ]
  },
  {
   "cell_type": "code",
   "execution_count": 12,
   "metadata": {},
   "outputs": [
    {
     "name": "stdout",
     "output_type": "stream",
     "text": [
      "Good morning!\n",
      "How are you feeling?\n",
      "I am happy to hear that you are feeling .\n",
      "Good afternoon!\n",
      "How are you feeling?\n",
      "I am happy to hear that you are feeling Bonjour.\n",
      "Good evening!\n",
      "How are you feeling?\n",
      "I am happy to hear that you are feeling bonjour.\n"
     ]
    }
   ],
   "source": [
    "# problem\n",
    "def how():\n",
    "    print('How are you feeling?')\n",
    "    feeling = input()\n",
    "    print('I am happy to hear that you are feeling ' + feeling + '.')\n",
    "\n",
    "print('Good morning!')\n",
    "how()\n",
    "    \n",
    "print('Good afternoon!')\n",
    "how()\n",
    "\n",
    "print('Good evening!')\n",
    "how()"
   ]
  },
  {
   "cell_type": "code",
   "execution_count": 22,
   "metadata": {},
   "outputs": [
    {
     "name": "stdout",
     "output_type": "stream",
     "text": [
      "Bad data, put un number please: \n",
      "Bad data, put un number please: \n",
      "109 5 21.8\n"
     ]
    }
   ],
   "source": [
    "from statistics import mean\n",
    "list_numbers=[]\n",
    "while True:\n",
    "    number = input(\"Enter a number: \")\n",
    "    if number == \"done\":\n",
    "        avarage = mean(list_numbers)\n",
    "        total = sum(list_numbers)\n",
    "        size=len(list_numbers)\n",
    "        break\n",
    "    else:   \n",
    "        try:\n",
    "            number = int(number)\n",
    "            list_numbers.append(number)\n",
    "        except:\n",
    "            print(\"Bad data, put un number please: \")\n",
    "\n",
    "print(total, size, avarage)\n",
    "    \n",
    "    "
   ]
  }
 ],
 "metadata": {
  "kernelspec": {
   "display_name": "Python 3",
   "language": "python",
   "name": "python3"
  },
  "language_info": {
   "codemirror_mode": {
    "name": "ipython",
    "version": 3
   },
   "file_extension": ".py",
   "mimetype": "text/x-python",
   "name": "python",
   "nbconvert_exporter": "python",
   "pygments_lexer": "ipython3",
   "version": "3.11.1"
  },
  "orig_nbformat": 4,
  "vscode": {
   "interpreter": {
    "hash": "f70b7ce637dd20c2bcae4ecf888f3187c4c9b8e6d5660f61314ffcec4b66e61f"
   }
  }
 },
 "nbformat": 4,
 "nbformat_minor": 2
}
