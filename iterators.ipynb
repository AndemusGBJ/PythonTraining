{
 "cells": [
  {
   "cell_type": "code",
   "execution_count": null,
   "metadata": {},
   "outputs": [],
   "source": [
    "1.\n",
    "write a function that yields the first 10 prime numbers.\n",
    "\n",
    "Tips:\n",
    "\tyou need 2 functions (is_prime() and prime_numbers(n)) \n",
    "\t\n",
    "prime_generator = prime_numbers(10)\n",
    "print(list(prime_generator))\n",
    "\n",
    "# output should be:\n",
    "[2, 3, 5, 7, 11, 13, 17, 19, 23, 29]"
   ]
  },
  {
   "cell_type": "markdown",
   "metadata": {},
   "source": []
  }
 ],
 "metadata": {
  "language_info": {
   "name": "python"
  },
  "orig_nbformat": 4
 },
 "nbformat": 4,
 "nbformat_minor": 2
}
