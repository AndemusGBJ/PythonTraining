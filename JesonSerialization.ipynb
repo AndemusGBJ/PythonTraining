{
 "cells": [
  {
   "cell_type": "markdown",
   "metadata": {},
   "source": [
    "1. Write a Python program that reads in a JSON file containing data on a set of customers, and outputs a list of all the unique countries that the customers are from."
   ]
  },
  {
   "cell_type": "code",
   "execution_count": 31,
   "metadata": {},
   "outputs": [
    {
     "name": "stdout",
     "output_type": "stream",
     "text": [
      "['Canada', 'United States', 'United Kingdom', 'Australia']\n"
     ]
    },
    {
     "data": {
      "text/plain": [
       "['United States', 'Canada', 'United Kingdom', 'Australia']"
      ]
     },
     "execution_count": 31,
     "metadata": {},
     "output_type": "execute_result"
    }
   ],
   "source": [
    "import json\n",
    "\n",
    "with open(\"customers.json\", \"r\") as f:\n",
    "    data = json.load(f)\n",
    "\n",
    "\n",
    "countries =  [x['country'] for x in data]\n",
    "\n",
    "unique_countries = list(set(countries))\n",
    "print(unique_countries)\n",
    "\n",
    "\n",
    "# We can also use the following code to get the unique countries\n",
    "with open('customers.json') as jsonfile:\n",
    "    _dict = json.loads(jsonfile.read())\n",
    "countries = []\n",
    "unique_countries = []\n",
    "\n",
    "\n",
    "for item in _dict: \n",
    "    if(item['country'] in countries):\n",
    "        continue\n",
    "    else:\n",
    "        unique_countries.append(item['country'])\n",
    "        countries.append(item['country'])       \n",
    "unique_countries"
   ]
  },
  {
   "attachments": {},
   "cell_type": "markdown",
   "metadata": {},
   "source": [
    "2. Write a Python program that takes a JSON file containing data on a set of products, and outputs the name and price of the most expensive product."
   ]
  },
  {
   "cell_type": "code",
   "execution_count": 37,
   "metadata": {},
   "outputs": [
    {
     "name": "stdout",
     "output_type": "stream",
     "text": [
      "('OnePlus 9 Pro', 1069.0)\n"
     ]
    }
   ],
   "source": [
    "import json\n",
    "with open('products.json') as jsonfile:\n",
    "    file = json.loads(jsonfile.read())\n",
    "    \n",
    "output =[(x['name'],x['price']) for x in file]\n",
    "max_price = max(output, key=lambda x: x[1])\n",
    "print(max_price)"
   ]
  },
  {
   "cell_type": "code",
   "execution_count": 39,
   "metadata": {},
   "outputs": [
    {
     "name": "stdout",
     "output_type": "stream",
     "text": [
      "{1: ['Jane Doe', 'Bob Johnson'], 2: ['John Smith'], 3: ['John Smith']}\n"
     ]
    }
   ],
   "source": [
    "\n",
    "with open('users.json') as f:\n",
    "    data = json.load(f)\n",
    "user_followers = {}\n",
    "user_id = lambda user: user['id']\n",
    "follower_id = lambda user: [follower['name'] for follower in user['followers']]\n",
    "user_followers = {user_id(user): follower_id(user) for user in data}\n",
    "print(user_followers)"
   ]
  }
 ],
 "metadata": {
  "kernelspec": {
   "display_name": "Python 3",
   "language": "python",
   "name": "python3"
  },
  "language_info": {
   "codemirror_mode": {
    "name": "ipython",
    "version": 3
   },
   "file_extension": ".py",
   "mimetype": "text/x-python",
   "name": "python",
   "nbconvert_exporter": "python",
   "pygments_lexer": "ipython3",
   "version": "3.11.2"
  },
  "orig_nbformat": 4
 },
 "nbformat": 4,
 "nbformat_minor": 2
}
