{
 "cells": [
  {
   "attachments": {},
   "cell_type": "markdown",
   "metadata": {},
   "source": [
    "1. Create a class called Person with properties name, age, and gender. Add a method greet() that prints out a greeting message. \n",
    "Create two instances of this class and call the greet() method on both of them"
   ]
  },
  {
   "cell_type": "code",
   "execution_count": 9,
   "metadata": {},
   "outputs": [
    {
     "name": "stdout",
     "output_type": "stream",
     "text": [
      "Hello, my name is Albert and I am 10 years old.\n",
      "Hello, my name is John and I am 20 years old.\n"
     ]
    }
   ],
   "source": [
    "class   Person:\n",
    "    def __init__(self, name, age, gender):\n",
    "        self.name = name\n",
    "        self.age = age\n",
    "        self.gender = gender\n",
    "    \n",
    "    def greet(self):\n",
    "        print(\"Hello, my name is \" + self.name + \" and I am \" + str(self.age) + \" years old.\")\n",
    "\n",
    "p1=Person(\"Albert\", 10, \"Male\")\n",
    "p2 = Person(\"John\", 20, \"Male\")\n",
    "\n",
    "p1.greet()\n",
    "p2.greet()"
   ]
  },
  {
   "cell_type": "markdown",
   "metadata": {},
   "source": [
    "2. Create a class called BankAccount with properties balance and account_number. Add methods deposit() and withdraw() that update the balance of the account. Create an instance of this class and call both the deposit() and withdraw() methods on it."
   ]
  },
  {
   "cell_type": "code",
   "execution_count": 10,
   "metadata": {},
   "outputs": [
    {
     "name": "stdout",
     "output_type": "stream",
     "text": [
      "Account number: 25897854569123, balance: 5000\n",
      "Account number: 25897854569123, balance: 4000\n"
     ]
    }
   ],
   "source": [
    "class BankAccout:\n",
    "    def __init__(self, balance, account_number):\n",
    "        self.balance = balance\n",
    "        self.account_number = account_number\n",
    "    def deposit(self, amount):\n",
    "        self.balance += amount\n",
    "        print(\"Account number: \" + str(self.account_number) + \", balance: \" + str(self.balance))\n",
    "    def withdraw(self, amount):\n",
    "        self.balance -= amount\n",
    "        print(\"Account number: \" + str(self.account_number) + \", balance: \" + str(self.balance))\n",
    "    \n",
    "        \n",
    "    \n",
    "dep = BankAccout(4500, 25897854569123)\n",
    "dep.deposit(500)\n",
    "dep.withdraw(1000)\n",
    "\n"
   ]
  },
  {
   "attachments": {},
   "cell_type": "markdown",
   "metadata": {},
   "source": [
    "3. Create a class called Car that has attributes make, model, and year. Add methods start and stop that simulate starting and stopping the car, respectively."
   ]
  },
  {
   "cell_type": "code",
   "execution_count": 12,
   "metadata": {},
   "outputs": [
    {
     "name": "stdout",
     "output_type": "stream",
     "text": [
      "Starting the Car Land Cruser.\n",
      "The car is already running.\n"
     ]
    }
   ],
   "source": [
    "class Car:\n",
    "    def __init__(self, make, model, year):\n",
    "        self.make = make\n",
    "        self.model = model\n",
    "        self.year = year\n",
    "        self.is_running = False\n",
    "    \n",
    "    def start(self):\n",
    "        if not self.is_running:\n",
    "            print(f\"Starting the Car {self.model}.\")\n",
    "            self.is_running = True\n",
    "        else:\n",
    "            print(\"The car is already running.\")\n",
    "\n",
    "    def stop(self):\n",
    "        if self.is_running:\n",
    "            print(f\"Stopping the Car {self.model}.\")\n",
    "            self.is_running = False\n",
    "        else:\n",
    "            print(\"The car is already stopped.\")\n",
    "\n",
    "car1 = Car(\"Toyota\", \"Land Cruser\", 2015)\n",
    "car1.start()\n",
    "car1.start()\n",
    "\n"
   ]
  },
  {
   "attachments": {},
   "cell_type": "markdown",
   "metadata": {},
   "source": [
    "4. Create a class called Dice that has attribute sides (the number of sides on the dice). Add a method roll that generates a random number between 1 and the number of sides on the dice."
   ]
  },
  {
   "cell_type": "code",
   "execution_count": 13,
   "metadata": {},
   "outputs": [
    {
     "name": "stdout",
     "output_type": "stream",
     "text": [
      "5\n"
     ]
    }
   ],
   "source": [
    "import random\n",
    "class Dice:\n",
    "    def __init__(self, sides=[1,2,3,4,5,6]):\n",
    "        self.sides = sides\n",
    "        self.value = 1\n",
    "    def roll(self):\n",
    "        self.value = random.randint(1, len(self.sides)+1)\n",
    "        print(self.value)\n",
    "\n",
    "dice = Dice()\n",
    "dice.roll()"
   ]
  },
  {
   "cell_type": "markdown",
   "metadata": {},
   "source": []
  }
 ],
 "metadata": {
  "kernelspec": {
   "display_name": "Python 3",
   "language": "python",
   "name": "python3"
  },
  "language_info": {
   "codemirror_mode": {
    "name": "ipython",
    "version": 3
   },
   "file_extension": ".py",
   "mimetype": "text/x-python",
   "name": "python",
   "nbconvert_exporter": "python",
   "pygments_lexer": "ipython3",
   "version": "3.11.2"
  },
  "orig_nbformat": 4
 },
 "nbformat": 4,
 "nbformat_minor": 2
}
