{
 "cells": [
  {
   "attachments": {},
   "cell_type": "markdown",
   "metadata": {},
   "source": [
    "The Caesar cipher is an ancient encryption algorithm used by Julius Caesar. It \n",
    "encrypts letters by shifting them over by a \n",
    "certain number of places in the alphabet. We \n",
    "call the length of shift the key. For example, if the \n",
    "key is 3, then A becomes D, B becomes E, C becomes \n",
    "F, and so on. To decrypt the message, you must shift \n",
    "the encrypted letters in the opposite direction. This \n",
    "program lets the user encrypt and decrypt messages \n",
    "according to this algorithm.\n",
    "\n",
    "When you run the code, the output will look like this:\n",
    "\n",
    "Do you want to (e)ncrypt or (d)ecrypt?\n",
    "> e\n",
    "Please enter the key (0 to 25) to use.\n",
    "> 4\n",
    "Enter the message to encrypt.\n",
    "> Meet me by the rose bushes tonight.\n",
    "QIIX QI FC XLI VSWI FYWLIW XSRMKLX.\n",
    "\n",
    "\n",
    "Do you want to (e)ncrypt or (d)ecrypt?\n",
    "> d\n",
    "Please enter the key (0 to 26) to use.\n",
    "> 4\n",
    "Enter the message to decrypt.\n",
    "> QIIX QI FC XLI VSWI FYWLIW XSRMKLX.\n",
    "MEET ME BY THE ROSE BUSHES TONIGHT."
   ]
  },
  {
   "attachments": {},
   "cell_type": "markdown",
   "metadata": {},
   "source": [
    "SOLUTION"
   ]
  },
  {
   "cell_type": "code",
   "execution_count": 8,
   "metadata": {},
   "outputs": [],
   "source": [
    "#Function for encryption\n",
    "\n",
    "def encrypt(stringToEncrypt,shift):\n",
    "    alphabet = \"ABCDEFGHIJKLMNOPQRSTUVWXYZ\"\n",
    "    stringToEncrypt = stringToEncrypt.upper().split()\n",
    "    encrypted_text = \"\"\n",
    "    for word in stringToEncrypt:\n",
    "        for letter in word:\n",
    "            if letter in alphabet:\n",
    "                encrypted_text += alphabet[(alphabet.index(letter) + shift) % 26]\n",
    "            else:\n",
    "                encrypted_text += letter\n",
    "            # This is the same as the line above. If we choose to do it without the modulo operator.\n",
    "            # indexLetter = alphabet.index(letter) + shift\n",
    "            # if indexLetter >  25:\n",
    "            #     indexLetter = indexLetter-26\n",
    "            # encrypted_text += alphabet[indexLetter]\n",
    "                \n",
    "        encrypted_text += \" \"\n",
    "    return encrypted_text\n",
    "\n",
    "\n",
    "\n",
    "\n",
    "    "
   ]
  },
  {
   "attachments": {},
   "cell_type": "markdown",
   "metadata": {},
   "source": [
    "Function for decryption"
   ]
  },
  {
   "cell_type": "code",
   "execution_count": 9,
   "metadata": {},
   "outputs": [],
   "source": [
    "def decrypt(stringToDecrypt,shift):\n",
    "    alphabet = \"ABCDEFGHIJKLMNOPQRSTUVWXYZ\"\n",
    "    stringToDecrypt = stringToDecrypt.upper().split()\n",
    "    decrypted_text = \"\"\n",
    "    for word in stringToDecrypt:\n",
    "        for letter in word:\n",
    "            if letter in alphabet:\n",
    "                decrypted_text += alphabet[(alphabet.index(letter) - shift) % 26]\n",
    "            else:\n",
    "                decrypted_text += letter\n",
    "        decrypted_text += \" \"\n",
    "    return decrypted_text\n",
    "\n"
   ]
  },
  {
   "cell_type": "code",
   "execution_count": 10,
   "metadata": {},
   "outputs": [
    {
     "name": "stdout",
     "output_type": "stream",
     "text": [
      "Do you want to (e)ncrypt or (d)ecrypt?\n",
      "Please enter e or d\n",
      "Please enter e or d\n",
      "Please enter the key (0 to 25) to use.\n",
      "Enter the message to encrypt.\n",
      "JWVRWCZ UWV XÈZM \n"
     ]
    }
   ],
   "source": [
    "#Main program\n",
    "print(\"Do you want to (e)ncrypt or (d)ecrypt?\")\n",
    "toDo=input()\n",
    "while toDo != \"e\" and toDo != \"d\":\n",
    "    print(\"Please enter e or d\")\n",
    "    toDo=input().lower()\n",
    "\n",
    "if toDo == \"e\":\n",
    "    print(\"Please enter the key (0 to 25) to use.\")\n",
    "    encryptionKey = input()\n",
    "    while True:\n",
    "        try:\n",
    "            encryptionKey = int(encryptionKey)\n",
    "            break\n",
    "        except ValueError:\n",
    "            print(\"Please enter a number\")\n",
    "            encryptionKey = input()\n",
    "        encryptionKey\n",
    "    print(\"Enter the message to encrypt.\")\n",
    "    message = input()\n",
    "    print(encrypt(message, encryptionKey))\n",
    "else:\n",
    "    print(\"Please enter the key (0 to 25) to use.\")\n",
    "    encryptionKey = input()\n",
    "    while True:\n",
    "        try:\n",
    "            encryptionKey = int(encryptionKey)\n",
    "            break\n",
    "        except ValueError:\n",
    "            print(\"Please enter a number\")\n",
    "            encryptionKey = input()\n",
    "        encryptionKey\n",
    "    print(\"Enter the message to decrypt.\")\n",
    "    message = input()\n",
    "    print(decrypt(message, encryptionKey))"
   ]
  }
 ],
 "metadata": {
  "kernelspec": {
   "display_name": "Python 3",
   "language": "python",
   "name": "python3"
  },
  "language_info": {
   "codemirror_mode": {
    "name": "ipython",
    "version": 3
   },
   "file_extension": ".py",
   "mimetype": "text/x-python",
   "name": "python",
   "nbconvert_exporter": "python",
   "pygments_lexer": "ipython3",
   "version": "3.11.2"
  },
  "orig_nbformat": 4
 },
 "nbformat": 4,
 "nbformat_minor": 2
}
