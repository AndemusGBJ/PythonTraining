{
 "cells": [
  {
   "cell_type": "code",
   "execution_count": 2,
   "metadata": {},
   "outputs": [],
   "source": [
    "# Title: Regular Expressions\n",
    "# By: Albert Andemir'irenge Gubanja\n",
    "import re"
   ]
  },
  {
   "attachments": {},
   "cell_type": "markdown",
   "metadata": {},
   "source": [
    "1.  Write a regular expression that matches a date in the format dd/mm/yyyy. For example, the string \"01/01/2021\" should match."
   ]
  },
  {
   "cell_type": "code",
   "execution_count": 10,
   "metadata": {},
   "outputs": [
    {
     "name": "stdout",
     "output_type": "stream",
     "text": [
      "Invalid date format. Please try again.\n",
      "Invalid date format. Please try again.\n",
      "Invalid date format. Please try again.\n",
      "12/02/2963\n"
     ]
    }
   ],
   "source": [
    "#I have limited the year for 0000-2999.\n",
    "sdate = input(\"Enter a date in the format dd/mm/yyyy: \")\n",
    "regexdate= re.compile(r'^(0[1-9]|1[0-9]|2[0-9]|3[0-1])/(0[1-9]|1[0-2])/(0\\d{3}|1\\d{3}|2\\d{3})$')\n",
    "while regexdate.search(sdate) == None:\n",
    "    print(\"Invalid date format. Please try again.\")\n",
    "    sdate = input(\"Enter a date in the format dd/mm/yyyy: \")\n",
    "\n",
    "print(sdate)"
   ]
  },
  {
   "attachments": {},
   "cell_type": "markdown",
   "metadata": {},
   "source": [
    "2. Write a regular expression that matches a phone number in the format xxx-xxx-xxxx, where x is a digit. For example, the string \"123-456-7890\" should match."
   ]
  },
  {
   "cell_type": "code",
   "execution_count": 5,
   "metadata": {},
   "outputs": [
    {
     "name": "stdout",
     "output_type": "stream",
     "text": [
      "888-236-5456\n"
     ]
    }
   ],
   "source": [
    "# Here you did not specify if the first number can be 0 or not. I assumed it can be 0.\n",
    "number = input(\"Enter a phone number in the format xxx-xxx-xxxx: \")\n",
    "regexPhone= re.compile(r'^([0-9][1-9]\\d{1})-(\\d{3})-(\\d{4})$')\n",
    "while regexPhone.search(number) == None:\n",
    "    print(\"Invalid phone number format. Please try again.\")\n",
    "    number = input(\"Enter a phone number in the format xxx-xxx-xxxx: \")\n",
    "\n",
    "print(number)"
   ]
  },
  {
   "attachments": {},
   "cell_type": "markdown",
   "metadata": {},
   "source": [
    "3. Write a regular expression that matches a valid email address. For example, the string \"example@example.com\" should match."
   ]
  },
  {
   "cell_type": "code",
   "execution_count": 7,
   "metadata": {},
   "outputs": [
    {
     "name": "stdout",
     "output_type": "stream",
     "text": [
      "Invalid email address. Please try again.\n",
      "albert@gmail.com\n"
     ]
    }
   ],
   "source": [
    "email = input(\"Enter an email address: \")\n",
    "regexEmail = re.compile(r'^[a-zA-Z0-9_.-]+@[a-zA-Z0-9-]+\\.{1}[a-zA-Z]+$')\n",
    "while regexEmail.search(email) == None:\n",
    "    print(\"Invalid email address. Please try again.\")\n",
    "    email = input(\"Enter an email address: \")\n",
    "\n",
    "print(email)"
   ]
  },
  {
   "attachments": {},
   "cell_type": "markdown",
   "metadata": {},
   "source": [
    "4. Write a regular expression that matches a string that starts with a word, followed by one or more whitespace characters, followed by another word. For example, the string \"hello world\" should match."
   ]
  },
  {
   "cell_type": "code",
   "execution_count": 8,
   "metadata": {},
   "outputs": [
    {
     "name": "stdout",
     "output_type": "stream",
     "text": [
      "Invalid string. Please try again.\n",
      "aaaaa becde\n"
     ]
    }
   ],
   "source": [
    "#You did not specify if the string has to start with a capital letter or not. I assumed it can start with a capital letter or not\n",
    "string = input(\"Enter a string of two valid words: \")\n",
    "regexString = re.compile(r'^([a-z]+|[A-Z]+|[A-Z][a-z]*)\\s+([a-z]+|[A-Z]+|[A-Z][a-z]*)$')\n",
    "while regexString.search(string) == None:\n",
    "    print(\"Invalid string. Please try again.\")\n",
    "    string = input(\"Enter a string of two valid words: \")\n",
    "\n",
    "print(string)"
   ]
  },
  {
   "attachments": {},
   "cell_type": "markdown",
   "metadata": {},
   "source": [
    "5. Write a regular expression that matches a string that contains a number with exactly two decimal places. For example, the string \"1.23\" should match, but the string \"1.234\" should not match."
   ]
  },
  {
   "cell_type": "code",
   "execution_count": 9,
   "metadata": {},
   "outputs": [
    {
     "name": "stdout",
     "output_type": "stream",
     "text": [
      "Invalid number. Please try again.\n",
      "Invalid number. Please try again.\n",
      "1.02\n"
     ]
    }
   ],
   "source": [
    "#I don't convert the input string to a float. So I don't use try. Let's trust the user for now that he/she will enter a valid number.\n",
    "decimal = input(\"Enter a number with two decimal places: \")\n",
    "regexDecimal = re.compile(r'^\\d+\\.\\d{2}$')\n",
    "\n",
    "while regexDecimal.search(decimal) == None:\n",
    "    print(\"Invalid number. Please try again.\")\n",
    "    decimal = input(\"Enter a number with two decimal places: \")\n",
    "\n",
    "print(decimal)\n"
   ]
  }
 ],
 "metadata": {
  "kernelspec": {
   "display_name": "Python 3",
   "language": "python",
   "name": "python3"
  },
  "language_info": {
   "codemirror_mode": {
    "name": "ipython",
    "version": 3
   },
   "file_extension": ".py",
   "mimetype": "text/x-python",
   "name": "python",
   "nbconvert_exporter": "python",
   "pygments_lexer": "ipython3",
   "version": "3.11.2"
  },
  "orig_nbformat": 4,
  "vscode": {
   "interpreter": {
    "hash": "f7a5be651532581cb44625d52e18aa1d390cab54bc6b51099d8c30bea9b68219"
   }
  }
 },
 "nbformat": 4,
 "nbformat_minor": 2
}
