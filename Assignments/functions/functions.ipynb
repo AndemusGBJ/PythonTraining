{
 "cells": [
  {
   "attachments": {},
   "cell_type": "markdown",
   "metadata": {},
   "source": [
    "1. Write a program that takes a list of numbers and returns the largest number in the list."
   ]
  },
  {
   "cell_type": "code",
   "execution_count": 3,
   "metadata": {},
   "outputs": [
    {
     "name": "stdout",
     "output_type": "stream",
     "text": [
      "9\n"
     ]
    }
   ],
   "source": [
    "numbers = [1, 2, 3, 4, 5, 6, 7, 8, 9]\n",
    "# your code here\n",
    "\n",
    "def theLargestNumber(numbers):\n",
    "    return max(numbers)\n",
    "\n",
    "print(theLargestNumber(numbers))"
   ]
  },
  {
   "attachments": {},
   "cell_type": "markdown",
   "metadata": {},
   "source": [
    "2. Write a program that takes a string and returns the number of vowels in the string."
   ]
  },
  {
   "cell_type": "code",
   "execution_count": 4,
   "metadata": {},
   "outputs": [
    {
     "name": "stdout",
     "output_type": "stream",
     "text": [
      "3\n"
     ]
    }
   ],
   "source": [
    "string = \"Hello, world!\"\n",
    "# your code here\n",
    "\n",
    "def numberOfVowels(string):\n",
    "    vowels = \"aeiou\"\n",
    "    count = 0\n",
    "    for i in string:\n",
    "        if i in vowels:\n",
    "            count += 1\n",
    "    return count\n",
    "\n",
    "print(numberOfVowels(string))"
   ]
  },
  {
   "attachments": {},
   "cell_type": "markdown",
   "metadata": {},
   "source": [
    "3. Write a program that takes a list of strings and returns a new list that contains only the strings that start with the letter 'a'."
   ]
  },
  {
   "cell_type": "code",
   "execution_count": 5,
   "metadata": {},
   "outputs": [
    {
     "name": "stdout",
     "output_type": "stream",
     "text": [
      "['apple']\n"
     ]
    }
   ],
   "source": [
    "strings = [\"apple\", \"banana\", \"cherry\", \"date\"]\n",
    "# your code here\n",
    "\n",
    "def stringsStartingWithA(strings):\n",
    "    aStrings = []\n",
    "    for i in strings:\n",
    "        if i[0] == \"a\":\n",
    "            aStrings += [i]\n",
    "    return aStrings\n",
    "\n",
    "print(stringsStartingWithA(strings))"
   ]
  },
  {
   "attachments": {},
   "cell_type": "markdown",
   "metadata": {},
   "source": [
    "4. Write a program that takes a sentence (string) and returns a dictionary with the count of each word in the sentence."
   ]
  },
  {
   "cell_type": "code",
   "execution_count": 7,
   "metadata": {},
   "outputs": [
    {
     "name": "stdout",
     "output_type": "stream",
     "text": [
      "{'this': 4, 'is': 2, 'a': 1, 'test': 4, 'sentence': 8}\n"
     ]
    }
   ],
   "source": [
    "sentence = \"this is a test sentence\"\n",
    "# your code here\n",
    "\n",
    "def dictionaryOfWords(sentence):\n",
    "    wordsInSentence = sentence.split()\n",
    "    wordDict = {}\n",
    "    for i in wordsInSentence:\n",
    "        wordDict |= {i:len(i)}\n",
    "    return wordDict\n",
    "\n",
    "print(dictionaryOfWords(sentence))"
   ]
  },
  {
   "attachments": {},
   "cell_type": "markdown",
   "metadata": {},
   "source": [
    "5. Write a program that takes two lists of numbers and returns a new list that contains only the numbers that are common to both lists."
   ]
  },
  {
   "cell_type": "code",
   "execution_count": 9,
   "metadata": {},
   "outputs": [
    {
     "name": "stdout",
     "output_type": "stream",
     "text": [
      "[2, 4, 6, 8]\n"
     ]
    }
   ],
   "source": [
    "list1 = [1, 2, 3, 4, 5, 6, 7, 8, 9]\n",
    "list2 = [2, 4, 6, 8, 10, 12, 14, 16, 18]\n",
    "# your code here\n",
    "\n",
    "def listIntersection(list1, list2):\n",
    "    list3 = []\n",
    "    for i in list1:\n",
    "        if i in list2:\n",
    "            list3.append(i)\n",
    "    \n",
    "    return list3       \n",
    "    #return list(set(list1) & set(list2))\n",
    "\n",
    "print(listIntersection(list1, list2))"
   ]
  },
  {
   "attachments": {},
   "cell_type": "markdown",
   "metadata": {},
   "source": [
    "6. Write a program that takes a list of integers and returns a new list that contains only the prime numbers from the original list."
   ]
  },
  {
   "cell_type": "code",
   "execution_count": 10,
   "metadata": {},
   "outputs": [
    {
     "name": "stdout",
     "output_type": "stream",
     "text": [
      "[2, 3, 5, 7, 11, 13]\n"
     ]
    }
   ],
   "source": [
    "numbers = [1, 2, 3, 4, 5, 6, 7, 8, 9, 10, 11, 12, 13, 14, 15]\n",
    "# your code here\n",
    "\n",
    "def listofPrimes(numbers):\n",
    "    primes = []\n",
    "    for i in numbers:\n",
    "        if i > 1:\n",
    "            for j in range(2, i):\n",
    "                if i % j == 0:\n",
    "                    break\n",
    "            else:\n",
    "                primes.append(i)\n",
    "    return primes\n",
    "\n",
    "print(listofPrimes(numbers))"
   ]
  },
  {
   "attachments": {},
   "cell_type": "markdown",
   "metadata": {},
   "source": [
    "7. Write a program that takes a string and returns the number of words in the string."
   ]
  },
  {
   "cell_type": "code",
   "execution_count": 11,
   "metadata": {},
   "outputs": [
    {
     "name": "stdout",
     "output_type": "stream",
     "text": [
      "7\n"
     ]
    }
   ],
   "source": [
    "string = \"Write a program that takes a string\"\n",
    "# your code here\n",
    "\n",
    "def numberOfWords(string):\n",
    "    return len(string.split())\n",
    "\n",
    "print(numberOfWords(string))"
   ]
  },
  {
   "attachments": {},
   "cell_type": "markdown",
   "metadata": {},
   "source": [
    "8. Write a program that takes a list of strings and returns a new list that contains only the strings that are palindrome."
   ]
  },
  {
   "cell_type": "code",
   "execution_count": 14,
   "metadata": {},
   "outputs": [
    {
     "name": "stdout",
     "output_type": "stream",
     "text": [
      "['madam', 'level', 'civic', 'radar']\n"
     ]
    }
   ],
   "source": [
    "strings = [\"madam\", \"level\", \"amen\",\"civic\", \"bravo\", \"radar\"]\n",
    "# your code here\n",
    "\n",
    "def palindromes(strings):\n",
    "    palindromes = []\n",
    "    for i in strings:\n",
    "        if i == i[::-1]:\n",
    "            palindromes.append(i)\n",
    "    return palindromes\n",
    "\n",
    "print(palindromes(strings))"
   ]
  },
  {
   "attachments": {},
   "cell_type": "markdown",
   "metadata": {},
   "source": [
    "9. Write a program that takes a sentence (string) and returns a tuple of the most frequent word and its frequency."
   ]
  },
  {
   "cell_type": "code",
   "execution_count": 25,
   "metadata": {},
   "outputs": [
    {
     "name": "stdout",
     "output_type": "stream",
     "text": [
      "('test', 3)\n"
     ]
    }
   ],
   "source": [
    "sentence = \"this is a test sentence to test the test\"\n",
    "# your code here\n",
    "\n",
    "def mostFrequentWord(sentence):\n",
    "    words = sentence.split()\n",
    "    wordDict = []\n",
    "    wordOccur = []\n",
    "    for i in words:\n",
    "        if i not in wordDict:\n",
    "            tupleWord = (i, words.count(i))\n",
    "            wordDict.append(tupleWord)\n",
    "            wordOccur.append(words.count(i))\n",
    "            \n",
    "    for i in wordDict:\n",
    "        if i[1] == max(wordOccur):\n",
    "            return i\n",
    "    \n",
    "    else:\n",
    "        return \"No words in sentence\"\n",
    "\n",
    "print(mostFrequentWord(sentence))"
   ]
  }
 ],
 "metadata": {
  "kernelspec": {
   "display_name": "Python 3",
   "language": "python",
   "name": "python3"
  },
  "language_info": {
   "codemirror_mode": {
    "name": "ipython",
    "version": 3
   },
   "file_extension": ".py",
   "mimetype": "text/x-python",
   "name": "python",
   "nbconvert_exporter": "python",
   "pygments_lexer": "ipython3",
   "version": "3.11.2"
  },
  "orig_nbformat": 4,
  "vscode": {
   "interpreter": {
    "hash": "f7a5be651532581cb44625d52e18aa1d390cab54bc6b51099d8c30bea9b68219"
   }
  }
 },
 "nbformat": 4,
 "nbformat_minor": 2
}
